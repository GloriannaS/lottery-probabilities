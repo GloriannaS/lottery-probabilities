{
 "cells": [
  {
   "cell_type": "markdown",
   "metadata": {},
   "source": [
    "# Lottery Probabilities App"
   ]
  },
  {
   "cell_type": "markdown",
   "metadata": {},
   "source": [
    "## Intro\n",
    "\n",
    "In this project, we will demonstrate how to use various probability tools for data analysis. By the end, we aim to highlight the importance and value of probabilities in predicting and analyzing data.\n",
    "\n",
    "#### Scenario\n",
    "\n",
    "This project is based on a hypothetical situation in which a medical institute is developing an app designed to predict the likelihood of winning the lottery. The app specifically targets individuals who struggle with lottery addiction. The goal is to help these individuals understand the actual odds of winning, which may assist them in overcoming their addiction and prevent them from falling deeper into debt.\n",
    "\n",
    "Our role in this project is to serve as the underlying logic of the app. We will provide answers to hypothetical lottery questions using the same calculations that the app would employ.\n",
    "\n",
    "## Functions\n",
    "\n",
    "As mentioned earlier, we will be addressing numerous probability questions throughout this project. To do this effectively, we will need to utilize specific probability functions multiple times. Therefore, our first step will be to define the two functions outlined below.\n",
    "\n",
    "![Probability Functions](functions.png \"Probability Functions\")"
   ]
  },
  {
   "cell_type": "code",
   "execution_count": 31,
   "metadata": {},
   "outputs": [],
   "source": [
    "def factorial(n):\n",
    "    final_product = 1\n",
    "    for i in range(n, 0, -1):\n",
    "        final_product *= i\n",
    "    return final_product\n",
    "\n",
    "def combinations(n,k):\n",
    "    numerator = factorial(n)\n",
    "    denominator = factorial(k) * factorial(n - k)\n",
    "    return numerator/denominator"
   ]
  },
  {
   "cell_type": "markdown",
   "metadata": {},
   "source": [
    "Now that we have established our two main functions for this project, we can proceed to create a function that calculates the chances of winning the grand prize. We are focusing on a 6/49 lottery, where six numbers are drawn from a set of 49 numbers, ranging from one to 49. A player wins the grand prize if the six numbers on their ticket match all six numbers drawn, and they must be in the exact order as drawn.\n",
    "\n",
    "The function we are about to build will serve as the first version of the app. In this initial version, users will be able to calculate the probability of winning based on the numbers they select for a single ticket. Users will choose six numbers from 1 to 49, which will represent their \"single ticket.\"\n",
    "\n",
    "Additionally, the engineering team at the medical institute has provided a few important details for this function:\n",
    "\n",
    "- Users will input six different numbers from 1 to 49 within the app.\n",
    "- These six numbers will be processed as a Python list, which will be the input for our function.\n",
    "- The engineering team requests that the function presents the probability value in a clear and friendly manner, making it easy for individuals without any background in probability to understand.\n",
    "\n",
    "Let's get started! Please note the code comments (marked with a '#') to explain each step of the function."
   ]
  },
  {
   "cell_type": "code",
   "execution_count": 32,
   "metadata": {},
   "outputs": [],
   "source": [
    "def one_ticket_probability(six_numbers):\n",
    "    # using the combinations function to calculate the number of possible combinations\n",
    "    total_outcomes = combinations(49, 6)\n",
    "    # there is only 1 winning ticket\n",
    "    successful_outcomes = 1\n",
    "    # calculating the probability of winning\n",
    "    probability = successful_outcomes/total_outcomes\n",
    "    # converting the probability to a percentage format\n",
    "    probability_pct = probability * 100\n",
    "    # presenting the result of the calculation in a readable format\n",
    "    return print('''Your chance of winning with {} is {:.7f}%. To put it another way, your ticket has a 1 in {:,} chances to win.'''.format(six_numbers,\n",
    "                    probability_pct, int(total_outcomes)))"
   ]
  },
  {
   "cell_type": "markdown",
   "metadata": {},
   "source": [
    "Now that we have written our function, we will test out a few combinations, to ensure it performs as desired."
   ]
  },
  {
   "cell_type": "code",
   "execution_count": 33,
   "metadata": {},
   "outputs": [
    {
     "name": "stdout",
     "output_type": "stream",
     "text": [
      "Your chance of winning with [6, 7, 27, 32, 30, 2] is 0.0000072%. To put it another way, your ticket has a 1 in 13,983,816 chances to win.\n"
     ]
    }
   ],
   "source": [
    "test1 = [6,7,27,32,30,2]\n",
    "test2 = [41,17,22,22,8,13]\n",
    "\n",
    "one_ticket_probability(test1)"
   ]
  },
  {
   "cell_type": "code",
   "execution_count": 34,
   "metadata": {},
   "outputs": [
    {
     "name": "stdout",
     "output_type": "stream",
     "text": [
      "Your chance of winning with [41, 17, 22, 22, 8, 13] is 0.0000072%. To put it another way, your ticket has a 1 in 13,983,816 chances to win.\n"
     ]
    }
   ],
   "source": [
    "one_ticket_probability(test2)"
   ]
  },
  {
   "cell_type": "markdown",
   "metadata": {},
   "source": [
    "## Historical Data Check for Canada Lottery\n",
    "\n",
    "An additional feature that the medical institute wants to include in the first version of the app is the ability for users to compare their ticket against historical lottery data. The selected data will come from past lotteries in Canada. By examining this historical data, users will hopefully be able to see if their ticket would have ever been a winning combination.\n",
    "\n",
    "For the next step in our project, we will import the necessary libraries and data, and then proceed to explore the dataset."
   ]
  },
  {
   "cell_type": "code",
   "execution_count": 35,
   "metadata": {},
   "outputs": [
    {
     "name": "stdout",
     "output_type": "stream",
     "text": [
      "(3665, 11)\n"
     ]
    }
   ],
   "source": [
    "# importing necessary libraries\n",
    "import pandas as pd\n",
    "import numpy as np\n",
    "\n",
    "# Read in the data\n",
    "canada_lottery = pd.read_csv('649.csv')\n",
    "\n",
    "# Quick exploration of the data\n",
    "print(canada_lottery.shape)"
   ]
  },
  {
   "cell_type": "code",
   "execution_count": 36,
   "metadata": {},
   "outputs": [
    {
     "data": {
      "text/html": [
       "<div>\n",
       "<style scoped>\n",
       "    .dataframe tbody tr th:only-of-type {\n",
       "        vertical-align: middle;\n",
       "    }\n",
       "\n",
       "    .dataframe tbody tr th {\n",
       "        vertical-align: top;\n",
       "    }\n",
       "\n",
       "    .dataframe thead th {\n",
       "        text-align: right;\n",
       "    }\n",
       "</style>\n",
       "<table border=\"1\" class=\"dataframe\">\n",
       "  <thead>\n",
       "    <tr style=\"text-align: right;\">\n",
       "      <th></th>\n",
       "      <th>PRODUCT</th>\n",
       "      <th>DRAW NUMBER</th>\n",
       "      <th>SEQUENCE NUMBER</th>\n",
       "      <th>DRAW DATE</th>\n",
       "      <th>NUMBER DRAWN 1</th>\n",
       "      <th>NUMBER DRAWN 2</th>\n",
       "      <th>NUMBER DRAWN 3</th>\n",
       "      <th>NUMBER DRAWN 4</th>\n",
       "      <th>NUMBER DRAWN 5</th>\n",
       "      <th>NUMBER DRAWN 6</th>\n",
       "      <th>BONUS NUMBER</th>\n",
       "    </tr>\n",
       "  </thead>\n",
       "  <tbody>\n",
       "    <tr>\n",
       "      <th>0</th>\n",
       "      <td>649</td>\n",
       "      <td>1</td>\n",
       "      <td>0</td>\n",
       "      <td>6/12/1982</td>\n",
       "      <td>3</td>\n",
       "      <td>11</td>\n",
       "      <td>12</td>\n",
       "      <td>14</td>\n",
       "      <td>41</td>\n",
       "      <td>43</td>\n",
       "      <td>13</td>\n",
       "    </tr>\n",
       "    <tr>\n",
       "      <th>1</th>\n",
       "      <td>649</td>\n",
       "      <td>2</td>\n",
       "      <td>0</td>\n",
       "      <td>6/19/1982</td>\n",
       "      <td>8</td>\n",
       "      <td>33</td>\n",
       "      <td>36</td>\n",
       "      <td>37</td>\n",
       "      <td>39</td>\n",
       "      <td>41</td>\n",
       "      <td>9</td>\n",
       "    </tr>\n",
       "    <tr>\n",
       "      <th>2</th>\n",
       "      <td>649</td>\n",
       "      <td>3</td>\n",
       "      <td>0</td>\n",
       "      <td>6/26/1982</td>\n",
       "      <td>1</td>\n",
       "      <td>6</td>\n",
       "      <td>23</td>\n",
       "      <td>24</td>\n",
       "      <td>27</td>\n",
       "      <td>39</td>\n",
       "      <td>34</td>\n",
       "    </tr>\n",
       "    <tr>\n",
       "      <th>3</th>\n",
       "      <td>649</td>\n",
       "      <td>4</td>\n",
       "      <td>0</td>\n",
       "      <td>7/3/1982</td>\n",
       "      <td>3</td>\n",
       "      <td>9</td>\n",
       "      <td>10</td>\n",
       "      <td>13</td>\n",
       "      <td>20</td>\n",
       "      <td>43</td>\n",
       "      <td>34</td>\n",
       "    </tr>\n",
       "    <tr>\n",
       "      <th>4</th>\n",
       "      <td>649</td>\n",
       "      <td>5</td>\n",
       "      <td>0</td>\n",
       "      <td>7/10/1982</td>\n",
       "      <td>5</td>\n",
       "      <td>14</td>\n",
       "      <td>21</td>\n",
       "      <td>31</td>\n",
       "      <td>34</td>\n",
       "      <td>47</td>\n",
       "      <td>45</td>\n",
       "    </tr>\n",
       "  </tbody>\n",
       "</table>\n",
       "</div>"
      ],
      "text/plain": [
       "   PRODUCT  DRAW NUMBER  SEQUENCE NUMBER  DRAW DATE  NUMBER DRAWN 1  \\\n",
       "0      649            1                0  6/12/1982               3   \n",
       "1      649            2                0  6/19/1982               8   \n",
       "2      649            3                0  6/26/1982               1   \n",
       "3      649            4                0   7/3/1982               3   \n",
       "4      649            5                0  7/10/1982               5   \n",
       "\n",
       "   NUMBER DRAWN 2  NUMBER DRAWN 3  NUMBER DRAWN 4  NUMBER DRAWN 5  \\\n",
       "0              11              12              14              41   \n",
       "1              33              36              37              39   \n",
       "2               6              23              24              27   \n",
       "3               9              10              13              20   \n",
       "4              14              21              31              34   \n",
       "\n",
       "   NUMBER DRAWN 6  BONUS NUMBER  \n",
       "0              43            13  \n",
       "1              41             9  \n",
       "2              39            34  \n",
       "3              43            34  \n",
       "4              47            45  "
      ]
     },
     "execution_count": 36,
     "metadata": {},
     "output_type": "execute_result"
    }
   ],
   "source": [
    "canada_lottery.head(5)"
   ]
  },
  {
   "cell_type": "code",
   "execution_count": 37,
   "metadata": {},
   "outputs": [
    {
     "data": {
      "text/html": [
       "<div>\n",
       "<style scoped>\n",
       "    .dataframe tbody tr th:only-of-type {\n",
       "        vertical-align: middle;\n",
       "    }\n",
       "\n",
       "    .dataframe tbody tr th {\n",
       "        vertical-align: top;\n",
       "    }\n",
       "\n",
       "    .dataframe thead th {\n",
       "        text-align: right;\n",
       "    }\n",
       "</style>\n",
       "<table border=\"1\" class=\"dataframe\">\n",
       "  <thead>\n",
       "    <tr style=\"text-align: right;\">\n",
       "      <th></th>\n",
       "      <th>PRODUCT</th>\n",
       "      <th>DRAW NUMBER</th>\n",
       "      <th>SEQUENCE NUMBER</th>\n",
       "      <th>DRAW DATE</th>\n",
       "      <th>NUMBER DRAWN 1</th>\n",
       "      <th>NUMBER DRAWN 2</th>\n",
       "      <th>NUMBER DRAWN 3</th>\n",
       "      <th>NUMBER DRAWN 4</th>\n",
       "      <th>NUMBER DRAWN 5</th>\n",
       "      <th>NUMBER DRAWN 6</th>\n",
       "      <th>BONUS NUMBER</th>\n",
       "    </tr>\n",
       "  </thead>\n",
       "  <tbody>\n",
       "    <tr>\n",
       "      <th>3660</th>\n",
       "      <td>649</td>\n",
       "      <td>3587</td>\n",
       "      <td>0</td>\n",
       "      <td>6/6/2018</td>\n",
       "      <td>10</td>\n",
       "      <td>15</td>\n",
       "      <td>23</td>\n",
       "      <td>38</td>\n",
       "      <td>40</td>\n",
       "      <td>41</td>\n",
       "      <td>35</td>\n",
       "    </tr>\n",
       "    <tr>\n",
       "      <th>3661</th>\n",
       "      <td>649</td>\n",
       "      <td>3588</td>\n",
       "      <td>0</td>\n",
       "      <td>6/9/2018</td>\n",
       "      <td>19</td>\n",
       "      <td>25</td>\n",
       "      <td>31</td>\n",
       "      <td>36</td>\n",
       "      <td>46</td>\n",
       "      <td>47</td>\n",
       "      <td>26</td>\n",
       "    </tr>\n",
       "    <tr>\n",
       "      <th>3662</th>\n",
       "      <td>649</td>\n",
       "      <td>3589</td>\n",
       "      <td>0</td>\n",
       "      <td>6/13/2018</td>\n",
       "      <td>6</td>\n",
       "      <td>22</td>\n",
       "      <td>24</td>\n",
       "      <td>31</td>\n",
       "      <td>32</td>\n",
       "      <td>34</td>\n",
       "      <td>16</td>\n",
       "    </tr>\n",
       "    <tr>\n",
       "      <th>3663</th>\n",
       "      <td>649</td>\n",
       "      <td>3590</td>\n",
       "      <td>0</td>\n",
       "      <td>6/16/2018</td>\n",
       "      <td>2</td>\n",
       "      <td>15</td>\n",
       "      <td>21</td>\n",
       "      <td>31</td>\n",
       "      <td>38</td>\n",
       "      <td>49</td>\n",
       "      <td>8</td>\n",
       "    </tr>\n",
       "    <tr>\n",
       "      <th>3664</th>\n",
       "      <td>649</td>\n",
       "      <td>3591</td>\n",
       "      <td>0</td>\n",
       "      <td>6/20/2018</td>\n",
       "      <td>14</td>\n",
       "      <td>24</td>\n",
       "      <td>31</td>\n",
       "      <td>35</td>\n",
       "      <td>37</td>\n",
       "      <td>48</td>\n",
       "      <td>17</td>\n",
       "    </tr>\n",
       "  </tbody>\n",
       "</table>\n",
       "</div>"
      ],
      "text/plain": [
       "      PRODUCT  DRAW NUMBER  SEQUENCE NUMBER  DRAW DATE  NUMBER DRAWN 1  \\\n",
       "3660      649         3587                0   6/6/2018              10   \n",
       "3661      649         3588                0   6/9/2018              19   \n",
       "3662      649         3589                0  6/13/2018               6   \n",
       "3663      649         3590                0  6/16/2018               2   \n",
       "3664      649         3591                0  6/20/2018              14   \n",
       "\n",
       "      NUMBER DRAWN 2  NUMBER DRAWN 3  NUMBER DRAWN 4  NUMBER DRAWN 5  \\\n",
       "3660              15              23              38              40   \n",
       "3661              25              31              36              46   \n",
       "3662              22              24              31              32   \n",
       "3663              15              21              31              38   \n",
       "3664              24              31              35              37   \n",
       "\n",
       "      NUMBER DRAWN 6  BONUS NUMBER  \n",
       "3660              41            35  \n",
       "3661              47            26  \n",
       "3662              34            16  \n",
       "3663              49             8  \n",
       "3664              48            17  "
      ]
     },
     "execution_count": 37,
     "metadata": {},
     "output_type": "execute_result"
    }
   ],
   "source": [
    "canada_lottery.tail(5)"
   ]
  },
  {
   "cell_type": "markdown",
   "metadata": {},
   "source": [
    "As previously mentioned, the data is sourced from historical 6/49 lotteries held in Canada. The dataset includes information from 3,665 drawings that took place between 1982 and 2018. Each drawing is represented by a row, and the six numbers drawn in each lottery have their own separate columns."
   ]
  },
  {
   "cell_type": "markdown",
   "metadata": {},
   "source": [
    "## Historical Data Check Function\n",
    "\n",
    "Next, we will create a function that allows users to see how their chosen numbers have performed in past lotteries and whether their ticket would have ever been selected. Here are some important details from the engineering team that we need to keep in mind:\n",
    "\n",
    "- Users will input six different numbers from 1 to 49 within the app.\n",
    "- These six numbers will be processed as a Python list, which will serve as the input for our function.\n",
    "- The engineering team requests that our function provides the following information:\n",
    "    - The number of times the selected combination has occurred in the Canada dataset.\n",
    "    - The probability of winning the grand prize in the next drawing with that combination."
   ]
  },
  {
   "cell_type": "code",
   "execution_count": 38,
   "metadata": {},
   "outputs": [
    {
     "data": {
      "text/plain": [
       "0    {3, 41, 11, 12, 43, 14}\n",
       "1    {33, 36, 37, 39, 8, 41}\n",
       "2     {1, 6, 39, 23, 24, 27}\n",
       "3     {3, 9, 10, 43, 13, 20}\n",
       "4    {34, 5, 14, 47, 21, 31}\n",
       "dtype: object"
      ]
     },
     "execution_count": 38,
     "metadata": {},
     "output_type": "execute_result"
    }
   ],
   "source": [
    "def extract_numbers(row):\n",
    "    # selecting the ticket number columns\n",
    "    row = row[4:10]\n",
    "    # converting the row numbers to a 'set' data type\n",
    "    row = set(row.values)\n",
    "    return row\n",
    "\n",
    "# using our new function to extract all the winning numbers from our dataset\n",
    "winning_numbers = canada_lottery.apply(extract_numbers, axis=1)\n",
    "winning_numbers.head()"
   ]
  },
  {
   "cell_type": "markdown",
   "metadata": {},
   "source": [
    "Now that we have extracted the winning numbers from our dataset, we can proceed to compare the numbers selected by our users with the historical winning numbers."
   ]
  },
  {
   "cell_type": "code",
   "execution_count": 39,
   "metadata": {},
   "outputs": [],
   "source": [
    "def check_historical_occurence(six_numbers, winners):\n",
    "    # converting the user's ticket numbers into a 'set' data type\n",
    "    user_attempt = set(six_numbers)\n",
    "    # checking to see if the user's ticket was ever selected in the hisorical data\n",
    "    check_occurrence = winners == user_attempt\n",
    "    # adding upp all occurences of the user's ticket in the historical data\n",
    "    n_occurrences = check_occurrence.sum()\n",
    "\n",
    "    # presenting the results of the calculations in a readable format\n",
    "    if n_occurrences == 0:\n",
    "        print('''The combination {} has never yet occured as a winning ticket. \n",
    "Your chance of winning using {} is 0.0000072%. \n",
    "To put it another way, your ticket has a 1 in 13,983,816 chances to win.'''.format(user_attempt, user_attempt))\n",
    "    else:\n",
    "        print('''The number of times your combination, {}, has occured as a winning ticket in the past is {}. \n",
    "Your chance of winning using {} is 0.0000072%. \n",
    "To put it another way, your ticket has a 1 in 13,983,816 chances to win.'''.format(user_attempt, n_occurrences, user_attempt))"
   ]
  },
  {
   "cell_type": "code",
   "execution_count": 40,
   "metadata": {},
   "outputs": [
    {
     "name": "stdout",
     "output_type": "stream",
     "text": [
      "The combination {32, 2, 6, 7, 27, 30} has never yet occured as a winning ticket. \n",
      "Your chance of winning using {32, 2, 6, 7, 27, 30} is 0.0000072%. \n",
      "To put it another way, your ticket has a 1 in 13,983,816 chances to win.\n"
     ]
    }
   ],
   "source": [
    "test1 = [6,7,27,32,30,2]\n",
    "test2 = [33, 36, 37, 39, 8, 41]\n",
    "\n",
    "check_historical_occurence(test1, winning_numbers)"
   ]
  },
  {
   "cell_type": "code",
   "execution_count": 41,
   "metadata": {},
   "outputs": [
    {
     "name": "stdout",
     "output_type": "stream",
     "text": [
      "The number of times your combination, {33, 36, 37, 39, 8, 41}, has occured as a winning ticket in the past is 1. \n",
      "Your chance of winning using {33, 36, 37, 39, 8, 41} is 0.0000072%. \n",
      "To put it another way, your ticket has a 1 in 13,983,816 chances to win.\n"
     ]
    }
   ],
   "source": [
    "check_historical_occurence(test2, winning_numbers)"
   ]
  },
  {
   "cell_type": "markdown",
   "metadata": {},
   "source": [
    "## Multi-ticket Probability\n",
    "\n",
    "So far, we have developed functions that handle only a single ticket. However, in reality, lottery enthusiasts are likely to purchase multiple tickets to enhance their chances of winning. The objective of our next function is to calculate and display the actual probability of winning based on the number of tickets entered by the user. The specifications provided by the engineering team for this function are as follows:\n",
    "\n",
    "- The user will specify the number of different tickets they wish to play, without needing to provide the specific combinations.\n",
    "- Our function will accept an integer input ranging from 1 to 13,983,816, which is the maximum number of different tickets possible.\n",
    "- The function will output information regarding the probability of winning the grand prize based on the number of different tickets played."
   ]
  },
  {
   "cell_type": "code",
   "execution_count": 42,
   "metadata": {},
   "outputs": [],
   "source": [
    "def multi_ticket_probability(num_of_tickets):\n",
    "    # using the combinations function to calculate the number of possible combinations\n",
    "    total_outcomes = combinations(49, 6)\n",
    "    \n",
    "    # calculating the probability of winning\n",
    "    probability = num_of_tickets/total_outcomes\n",
    "    # converting the probability to a percentage format\n",
    "    probability_pct = probability * 100\n",
    "\n",
    "    # presenting the results of the calculations in a readable format\n",
    "    if num_of_tickets == 1:\n",
    "        print('''Your chance of winning with 1 ticket is {:.6f}%. \n",
    "To put it another way, your ticket has a 1 in {:,} chances to win.'''.format(probability_pct, int(total_outcomes)))\n",
    "    else:\n",
    "        combinations_simplified = round(total_outcomes / num_of_tickets)\n",
    "        print('''Your chance of winning with {:,} different tickets are {:.6f}%. \n",
    "To put it another way, you have a 1 in {:,} chances to win.'''.format(num_of_tickets, probability_pct, combinations_simplified))"
   ]
  },
  {
   "cell_type": "markdown",
   "metadata": {},
   "source": [
    "Now that we have developed this function, we will conduct a few tests to evaluate its performance."
   ]
  },
  {
   "cell_type": "code",
   "execution_count": 43,
   "metadata": {},
   "outputs": [
    {
     "name": "stdout",
     "output_type": "stream",
     "text": [
      "Your chance of winning with 1 ticket is 0.000007%. \n",
      "To put it another way, your ticket has a 1 in 13,983,816 chances to win.\n",
      "------------------------\n",
      "Your chance of winning with 10 different tickets are 0.000072%. \n",
      "To put it another way, you have a 1 in 1,398,382 chances to win.\n",
      "------------------------\n",
      "Your chance of winning with 100 different tickets are 0.000715%. \n",
      "To put it another way, you have a 1 in 139,838 chances to win.\n",
      "------------------------\n",
      "Your chance of winning with 10,000 different tickets are 0.071511%. \n",
      "To put it another way, you have a 1 in 1,398 chances to win.\n",
      "------------------------\n",
      "Your chance of winning with 1,000,000 different tickets are 7.151124%. \n",
      "To put it another way, you have a 1 in 14 chances to win.\n",
      "------------------------\n",
      "Your chance of winning with 6,991,908 different tickets are 50.000000%. \n",
      "To put it another way, you have a 1 in 2 chances to win.\n",
      "------------------------\n",
      "Your chance of winning with 13,983,816 different tickets are 100.000000%. \n",
      "To put it another way, you have a 1 in 1 chances to win.\n",
      "------------------------\n"
     ]
    }
   ],
   "source": [
    "test_inputs = [1, 10, 100, 10000, 1000000, 6991908, 13983816]\n",
    "\n",
    "for test_input in test_inputs:\n",
    "    multi_ticket_probability(test_input)\n",
    "    print('------------------------') # output delimiter"
   ]
  },
  {
   "cell_type": "markdown",
   "metadata": {},
   "source": [
    "## Less Winning Numbers\n",
    "\n",
    "For our final function in this project, we will be focusing on tickets that have only some winning numbers. Sometimes in 6/49 lottery systems, tickets that have a few of the winning numbers on them will recieve smaller prizes. The function we are going to write for this is going to predict the probability of any ticket having a certain number of winning numbers on it. Here are the details from the engineer team:\n",
    "\n",
    "- Inside the app, the user inputs:\n",
    "    - six different numbers from 1 to 49; and\n",
    "    - an integer between 2 and 5 that represents the number of winning numbers expected\n",
    "- Our function prints information about the probability of having the inputted number of winning numbers."
   ]
  },
  {
   "cell_type": "code",
   "execution_count": 44,
   "metadata": {},
   "outputs": [],
   "source": [
    "def probability_less_6(n_winning_numbers):\n",
    "    # calculating the number of successful outcomes using our combinations function\n",
    "    n_combinations_ticket = combinations(6, n_winning_numbers)\n",
    "    n_combinations_remaining = combinations(43, 6 - n_winning_numbers)\n",
    "    successful_outcomes = n_combinations_ticket * n_combinations_remaining\n",
    "    \n",
    "    # calculating the total number of combinations in the entire lottery\n",
    "    n_combinations_total = combinations(49, 6)\n",
    "    \n",
    "    # dividing the number of successfull outcomes with our winning numbers by the number of total outcomes to get the probability value\n",
    "    probability = successful_outcomes / n_combinations_total\n",
    "    \n",
    "    # converting the probability value to a percentage, a more readable format\n",
    "    probability_percentage = probability * 100\n",
    "    \n",
    "    # calculating the number of chances each ticket has to have the selected number of 'winning numbers' and rounding up to be more readable\n",
    "    combinations_simplified = round(n_combinations_total/successful_outcomes)\n",
    "    print('''Your chances of having {} winning numbers with this ticket are {:.6f}%.\n",
    "In other words, you have a 1 in {:,} chances to win.'''.format(n_winning_numbers, probability_percentage,\n",
    "                                                               int(combinations_simplified)))"
   ]
  },
  {
   "cell_type": "code",
   "execution_count": 46,
   "metadata": {},
   "outputs": [
    {
     "name": "stdout",
     "output_type": "stream",
     "text": [
      "Your chances of having 2 winning numbers with this ticket are 13.237803%.\n",
      "In other words, you have a 1 in 8 chances to win.\n",
      "--------------------------\n",
      "Your chances of having 3 winning numbers with this ticket are 1.765040%.\n",
      "In other words, you have a 1 in 57 chances to win.\n",
      "--------------------------\n",
      "Your chances of having 4 winning numbers with this ticket are 0.096862%.\n",
      "In other words, you have a 1 in 1,032 chances to win.\n",
      "--------------------------\n",
      "Your chances of having 5 winning numbers with this ticket are 0.001845%.\n",
      "In other words, you have a 1 in 54,201 chances to win.\n",
      "--------------------------\n"
     ]
    }
   ],
   "source": [
    "# testing our above function with different selections of winning numbers\n",
    "for test_input in [2, 3, 4, 5]:\n",
    "    probability_less_6(test_input)\n",
    "    print('--------------------------') # output delimiter"
   ]
  },
  {
   "cell_type": "markdown",
   "metadata": {},
   "source": [
    "The coding comments above outline the process our function follows to calculate the probability of a single ticket containing a specific number of winning numbers. The test results indicate that as the number of winning numbers decreases, the probability of having that number of winning numbers increases, and vice versa. For lottery ticket customers, this information could be quite valuable."
   ]
  },
  {
   "cell_type": "markdown",
   "metadata": {},
   "source": [
    "## Conclusion\n",
    "\n",
    "In this project, we developed four main functions for the initial version of an app designed for lottery enthusiasts. These functions include:\n",
    "\n",
    "- `one_ticket_probability()` — calculates the probability of winning the grand prize with a single ticket\n",
    "- `check_historical_occurrence()` — checks whether a specific combination has appeared in the Canadian lottery dataset\n",
    "- `multi_ticket_probability()` — calculates the probability for any number of tickets between 1 and 13,983,816\n",
    "- `probability_less_6()` — calculates the probability of having exactly two, three, four, or five winning numbers\n",
    "\n",
    "One of our primary objectives was to illustrate the value of using probability techniques when analyzing data. Although this project is small, it effectively demonstrates how probabilities can provide a clear and concise understanding of the overall data landscape. Additionally, these techniques enable us to create more complex and comprehensive functions that would be quite challenging to develop without a solid understanding of probabilities. Overall, probabilities serve as a versatile and practical tool, useful for a variety of tasks, including exploration, analysis, and prediction."
   ]
  }
 ],
 "metadata": {
  "kernelspec": {
   "display_name": "Python 3 (ipykernel)",
   "language": "python",
   "name": "python3"
  },
  "language_info": {
   "codemirror_mode": {
    "name": "ipython",
    "version": 3
   },
   "file_extension": ".py",
   "mimetype": "text/x-python",
   "name": "python",
   "nbconvert_exporter": "python",
   "pygments_lexer": "ipython3",
   "version": "3.12.4"
  }
 },
 "nbformat": 4,
 "nbformat_minor": 4
}
